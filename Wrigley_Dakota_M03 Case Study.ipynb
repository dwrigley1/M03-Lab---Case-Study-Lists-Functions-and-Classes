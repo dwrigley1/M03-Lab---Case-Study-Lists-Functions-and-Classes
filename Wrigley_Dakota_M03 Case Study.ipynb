{
 "cells": [
  {
   "cell_type": "code",
   "execution_count": null,
   "id": "c4a2459b-312a-420b-92f0-04254dc09f3a",
   "metadata": {},
   "outputs": [],
   "source": [
    "# This program allows a user to enter their vehicle type, year, make, model, door count & roof type\n",
    "# the Automobile class inherits its vehicle type attribute from the Vehicle super class\n",
    "\n",
    "class Vehicle:\n",
    "    def __init__(self,vehicle_type):\n",
    "        self.vehicle_type = vehicle_type\n",
    "class Automobile(Vehicle):\n",
    "    def __init__(self, vehicle_type, year, make, model, doors, roof):\n",
    "        super().__init__(vehicle_type)\n",
    "        self.year = year\n",
    "        self.make = make\n",
    "        self.model = model\n",
    "        self.doors = doors\n",
    "        self.roof = roof\n",
    "\n",
    "    def selections(self):\n",
    "        print('The vehicle type is ', self.vehicle_type)\n",
    "        print('Year is', self.year)\n",
    "        print('Make is ', self.make)\n",
    "        print('Model is ', self.model)\n",
    "        print('Number of doors is ', self.doors)\n",
    "        print('The type of roof is ', self.roof)\n",
    "\n",
    "def make_choices():\n",
    "    vehicle_type = input('Enter the vehicle type ')\n",
    "    year = input('Enter the year of the vehicle ')\n",
    "    make = input('Enter the make of the vehicle ')\n",
    "    model = input('Enter the model of the vehicle ')\n",
    "    doors = input('Enter the number of doors on the vehicle ')\n",
    "    roof = input('Enter the style of roof the vehicle has ')\n",
    "\n",
    "    car = Automobile(vehicle_type, year, make, model, doors, roof)\n",
    "    print('Vehicle information :')\n",
    "    car.selections()\n",
    "\n",
    "make_choices()"
   ]
  }
 ],
 "metadata": {
  "kernelspec": {
   "display_name": "Python 3 (ipykernel)",
   "language": "python",
   "name": "python3"
  },
  "language_info": {
   "codemirror_mode": {
    "name": "ipython",
    "version": 3
   },
   "file_extension": ".py",
   "mimetype": "text/x-python",
   "name": "python",
   "nbconvert_exporter": "python",
   "pygments_lexer": "ipython3",
   "version": "3.11.7"
  }
 },
 "nbformat": 4,
 "nbformat_minor": 5
}
